{
 "cells": [
  {
   "cell_type": "code",
   "execution_count": 2,
   "metadata": {},
   "outputs": [],
   "source": [
    "import pandas as pd"
   ]
  },
  {
   "cell_type": "code",
   "execution_count": 53,
   "metadata": {},
   "outputs": [
    {
     "name": "stderr",
     "output_type": "stream",
     "text": [
      "/var/folders/7n/n9dhdvwd3v15pgkpjst2wbbc0000gn/T/ipykernel_62449/3879598243.py:1: DtypeWarning: Columns (3,5,18,23,26) have mixed types. Specify dtype option on import or set low_memory=False.\n",
      "  full_data = pd.read_csv('WB - Дом - Товары 29012024 - 27022024 28022024 2.csv', delimiter=';')\n"
     ]
    }
   ],
   "source": [
    "full_data = pd.read_csv('WB - Дом - Товары 29012024 - 27022024 28022024 2.csv', delimiter=';')"
   ]
  },
  {
   "cell_type": "code",
   "execution_count": 55,
   "metadata": {},
   "outputs": [
    {
     "data": {
      "text/plain": [
       "count    1.076599e+07\n",
       "mean     2.422552e+03\n",
       "std      6.846284e+03\n",
       "min      0.000000e+00\n",
       "25%      4.230000e+02\n",
       "50%      8.100000e+02\n",
       "75%      1.891000e+03\n",
       "max      8.199910e+05\n",
       "Name: Final price, dtype: float64"
      ]
     },
     "execution_count": 55,
     "metadata": {},
     "output_type": "execute_result"
    }
   ],
   "source": [
    "full_data['Final price'].describe()"
   ]
  },
  {
   "cell_type": "code",
   "execution_count": 57,
   "metadata": {},
   "outputs": [],
   "source": [
    "full_data['SPD']=full_data['Sales']/full_data['Days in stock']"
   ]
  },
  {
   "cell_type": "code",
   "execution_count": 58,
   "metadata": {},
   "outputs": [],
   "source": [
    "full_data = full_data[full_data['Sales Per Day Average'].str.replace(',', '.').astype(float) > 1]\n",
    "full_data = full_data[full_data['Comments'].astype(float) > 1000]\n",
    "full_data = full_data[full_data['Days in stock'].astype(float) > 1]\n",
    "q = full_data['Final price'].quantile([.25, .75])\n",
    "full_data = full_data[~full_data['Final price'].clip(*q).isin(q)]\n",
    "qs = full_data['SPD'].quantile([.25, .75])\n",
    "full_data = full_data[~full_data['SPD'].clip(*qs).isin(qs)]\n"
   ]
  },
  {
   "cell_type": "code",
   "execution_count": 9,
   "metadata": {},
   "outputs": [],
   "source": [
    "full_data['SPH']=full_data['Sales']/full_data['Days in stock']"
   ]
  },
  {
   "cell_type": "code",
   "execution_count": 60,
   "metadata": {},
   "outputs": [],
   "source": [
    "full_data = full_data.drop_duplicates()"
   ]
  },
  {
   "cell_type": "code",
   "execution_count": 75,
   "metadata": {},
   "outputs": [],
   "source": [
    "full_data_top = full_data[:1500]\n",
    "full_data_mid = full_data[(26429//2 - 750):(26429//2 + 750)]\n",
    "full_data_bot = full_data[(26429 - 1500):]"
   ]
  },
  {
   "cell_type": "code",
   "execution_count": 68,
   "metadata": {},
   "outputs": [],
   "source": [
    "full_data_top.to_csv('full_data_top.csv')\n",
    "full_data_mid.to_csv('full_data_mid.csv')\n",
    "full_data_bot.to_csv('full_data_bot.csv')"
   ]
  },
  {
   "cell_type": "code",
   "execution_count": 70,
   "metadata": {},
   "outputs": [],
   "source": [
    "new_fin_data = pd.concat([full_data_top,full_data_mid,full_data_mid,full_data_bot])"
   ]
  },
  {
   "cell_type": "code",
   "execution_count": 71,
   "metadata": {},
   "outputs": [],
   "source": [
    "new_fin_data = new_fin_data.drop_duplicates()"
   ]
  },
  {
   "cell_type": "code",
   "execution_count": 73,
   "metadata": {},
   "outputs": [
    {
     "data": {
      "text/plain": [
       "count    4500.000000\n",
       "mean        6.519346\n",
       "std         3.097084\n",
       "min         2.517241\n",
       "25%         3.615385\n",
       "50%         5.795833\n",
       "75%         9.366667\n",
       "max        12.187500\n",
       "Name: SPD, dtype: float64"
      ]
     },
     "execution_count": 73,
     "metadata": {},
     "output_type": "execute_result"
    }
   ],
   "source": [
    "new_fin_data['SPD'].describe()"
   ]
  },
  {
   "cell_type": "code",
   "execution_count": 74,
   "metadata": {},
   "outputs": [],
   "source": [
    "new_fin_data.to_csv('new_fin_data.csv')"
   ]
  }
 ],
 "metadata": {
  "kernelspec": {
   "display_name": "Python 3 (ipykernel)",
   "language": "python",
   "name": "python3"
  },
  "language_info": {
   "codemirror_mode": {
    "name": "ipython",
    "version": 3
   },
   "file_extension": ".py",
   "mimetype": "text/x-python",
   "name": "python",
   "nbconvert_exporter": "python",
   "pygments_lexer": "ipython3",
   "version": "3.9.13"
  }
 },
 "nbformat": 4,
 "nbformat_minor": 2
}
